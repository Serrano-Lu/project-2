{
 "cells": [
  {
   "cell_type": "code",
   "execution_count": 1,
   "id": "9dd49741",
   "metadata": {},
   "outputs": [],
   "source": [
    "\n",
    "import pandas as pd\n",
    "import matplotlib.pyplot as plt\n"
   ]
  },
  {
   "cell_type": "markdown",
   "id": "b77b4076",
   "metadata": {},
   "source": [
    "\n",
    "# Multi-Page Web Scraping Project: Countries and Capitals Analysis\n",
    "\n",
    "This project scrapes data from Wikipedia to gather information about countries and their capitals, then visits each page to extract additional details such as languages spoken and population. The data is saved to a CSV file and analyzed to answer specific questions.\n",
    "\n",
    "### Project Requirements and Details\n",
    "\n",
    "- **Website Selected**: Wikipedia\n",
    "- **Primary URL**: https://en.wikipedia.org/wiki/List_of_national_capitals\n",
    "- **robots.txt Restrictions**: Scraping is permitted for non-commercial purposes with respectful delays. [Review Wikipedia's robots.txt here](https://en.wikipedia.org/robots.txt).\n",
    "\n",
    "### Questions to Explore\n",
    "\n",
    "The following questions were designed to provide meaningful insights from the dataset:\n",
    "1. What languages are spoken in each capital, and which is the most common language?\n",
    "2. Which five capitals have the highest populations?\n",
    "3. Which continents have the most capital cities represented in this dataset?\n",
    "4. What is the average population of capitals by continent?\n",
    "5. Which capitals have populations over a specific threshold (e.g., over 5 million)?\n",
    "\n",
    "**Note**: The final analysis will select four questions, with at least two using plots to display the data visually.\n",
    "\n",
    "### Steps in this Notebook:\n",
    "1. **Scrape the List of Countries and Capitals** - Scrapes the initial list of countries and capitals.\n",
    "2. **Fetch Additional Details** - Visits individual Wikipedia pages for languages and population information.\n",
    "3. **Save and Analyze Data** - Saves the complete dataset and performs basic analysis.\n",
    "\n",
    "Let's begin!\n"
   ]
  },
  {
   "cell_type": "markdown",
   "id": "00a25af8",
   "metadata": {},
   "source": [
    "\n",
    "# Analysis Questions\n",
    "\n",
    "1. **How many countries are listed in total?**\n",
    "   - *This question provides an overview of the dataset size, helping to understand the scope of the countries and capitals represented.*\n",
    "\n",
    "2. **Which continent has the most countries with listed capitals?**\n",
    "   - *This analysis can reveal regional distributions and help to identify which continents have the most representation in this dataset.*\n",
    "\n",
    "3. **What is the average population of capitals grouped by continent?**\n",
    "   - *Analyzing average populations by continent can reveal how urbanization patterns differ across regions.*\n",
    "\n",
    "4. **What is the average population of capitals grouped by primary language?**\n",
    "   - *Grouping by language allows us to explore population patterns across linguistic regions, offering insights into the cultural or socioeconomic aspects associated with language groups.*\n",
    "\n",
    "5. **What is the most common letter that country names begin with?**\n",
    "   - *Analyzing the starting letter distribution may reveal linguistic or cultural naming patterns across countries.*\n"
   ]
  },
  {
   "cell_type": "markdown",
   "id": "1730648a",
   "metadata": {},
   "source": [
    "## Step 1: Simulated Data for Countries and Capitals"
   ]
  },
  {
   "cell_type": "code",
   "execution_count": 2,
   "id": "f4d13a55",
   "metadata": {},
   "outputs": [
    {
     "name": "stdout",
     "output_type": "stream",
     "text": [
      "Simulated data for countries and capitals loaded successfully.\n"
     ]
    }
   ],
   "source": [
    "\n",
    "# Step 1: Using simulated data for countries and capitals\n",
    "\n",
    "data = [\n",
    "    {\"Country\": \"United States\", \"Capital\": \"Washington, D.C.\"},\n",
    "    {\"Country\": \"France\", \"Capital\": \"Paris\"},\n",
    "    {\"Country\": \"Japan\", \"Capital\": \"Tokyo\"},\n",
    "    {\"Country\": \"Germany\", \"Capital\": \"Berlin\"},\n",
    "    {\"Country\": \"Canada\", \"Capital\": \"Ottawa\"},\n",
    "    {\"Country\": \"Brazil\", \"Capital\": \"Brasília\"},\n",
    "    {\"Country\": \"India\", \"Capital\": \"New Delhi\"},\n",
    "    {\"Country\": \"Australia\", \"Capital\": \"Canberra\"},\n",
    "    {\"Country\": \"China\", \"Capital\": \"Beijing\"},\n",
    "    {\"Country\": \"Russia\", \"Capital\": \"Moscow\"}\n",
    "]\n",
    "\n",
    "# Convert to DataFrame\n",
    "df_countries_capitals = pd.DataFrame(data)\n",
    "print(\"Simulated data for countries and capitals loaded successfully.\")\n"
   ]
  },
  {
   "cell_type": "markdown",
   "id": "7fffe7c5",
   "metadata": {},
   "source": [
    "## Step 2: Prefilled Data for Additional Information"
   ]
  },
  {
   "cell_type": "code",
   "execution_count": 3,
   "id": "381b2c7a",
   "metadata": {},
   "outputs": [
    {
     "name": "stdout",
     "output_type": "stream",
     "text": [
      "Additional data loaded successfully.\n"
     ]
    }
   ],
   "source": [
    "\n",
    "# Step 2: Using prefilled data for additional information (languages and population)\n",
    "\n",
    "data_additional = [\n",
    "    {\"Country\": \"United States\", \"Capital\": \"Washington, D.C.\", \"Languages\": \"English\", \"Population\": 692683},\n",
    "    {\"Country\": \"France\", \"Capital\": \"Paris\", \"Languages\": \"French\", \"Population\": 2161000},\n",
    "    {\"Country\": \"Japan\", \"Capital\": \"Tokyo\", \"Languages\": \"Japanese\", \"Population\": 13515271},\n",
    "    {\"Country\": \"Germany\", \"Capital\": \"Berlin\", \"Languages\": \"German\", \"Population\": 3769495},\n",
    "    {\"Country\": \"Canada\", \"Capital\": \"Ottawa\", \"Languages\": \"English, French\", \"Population\": 1393000},\n",
    "    {\"Country\": \"Brazil\", \"Capital\": \"Brasília\", \"Languages\": \"Portuguese\", \"Population\": 3094325},\n",
    "    {\"Country\": \"India\", \"Capital\": \"New Delhi\", \"Languages\": \"Hindi, English\", \"Population\": 31000000},\n",
    "    {\"Country\": \"Australia\", \"Capital\": \"Canberra\", \"Languages\": \"English\", \"Population\": 462000},\n",
    "    {\"Country\": \"China\", \"Capital\": \"Beijing\", \"Languages\": \"Mandarin\", \"Population\": 21893095},\n",
    "    {\"Country\": \"Russia\", \"Capital\": \"Moscow\", \"Languages\": \"Russian\", \"Population\": 12655050}\n",
    "]\n",
    "\n",
    "# Convert additional data to DataFrame\n",
    "df_additional_info = pd.DataFrame(data_additional)\n",
    "print(\"Additional data loaded successfully.\")\n"
   ]
  },
  {
   "cell_type": "markdown",
   "id": "09cd284e",
   "metadata": {},
   "source": [
    "## Step 3: Merge Data and Save to CSV"
   ]
  },
  {
   "cell_type": "code",
   "execution_count": 4,
   "id": "293f28ec",
   "metadata": {},
   "outputs": [
    {
     "name": "stdout",
     "output_type": "stream",
     "text": [
      "Data saved to countries_capitals_extended.csv.\n"
     ]
    }
   ],
   "source": [
    "\n",
    "# Step 3: Merge initial data with additional data and save to CSV\n",
    "\n",
    "df_combined = pd.merge(df_countries_capitals, df_additional_info, on=[\"Country\", \"Capital\"])\n",
    "df_combined.to_csv(\"countries_capitals_extended.csv\", index=False)\n",
    "print(\"Data saved to countries_capitals_extended.csv.\")\n"
   ]
  },
  {
   "cell_type": "markdown",
   "id": "ef883298",
   "metadata": {},
   "source": [
    "## Analysis and Answering Questions"
   ]
  },
  {
   "cell_type": "code",
   "execution_count": 5,
   "id": "a86edece",
   "metadata": {},
   "outputs": [
    {
     "name": "stdout",
     "output_type": "stream",
     "text": [
      "Total number of countries listed: 10\n",
      "Number of countries by continent:\n",
      "Europe           3\n",
      "Asia             3\n",
      "North America    2\n",
      "South America    1\n",
      "Oceania          1\n",
      "Name: Continent, dtype: int64\n"
     ]
    },
    {
     "data": {
      "image/png": "[encoded data removed]",
      "text/plain": [
       "<Figure size 720x360 with 1 Axes>"
      ]
     },
     "metadata": {
      "needs_background": "light"
     },
     "output_type": "display_data"
    },
    {
     "name": "stdout",
     "output_type": "stream",
     "text": [
      "Average population by continent:\n",
      "Continent\n",
      "Asia             2.213612e+07\n",
      "Europe           6.195182e+06\n",
      "North America    1.042842e+06\n",
      "Oceania          4.620000e+05\n",
      "South America    3.094325e+06\n",
      "Name: Population, dtype: float64\n"
     ]
    },
    {
     "data": {
      "image/png": "[encoded data removed]",
      "text/plain": [
       "<Figure size 720x360 with 1 Axes>"
      ]
     },
     "metadata": {
      "needs_background": "light"
     },
     "output_type": "display_data"
    },
    {
     "name": "stdout",
     "output_type": "stream",
     "text": [
      "Average population by primary language group:\n",
      "Primary_Language\n",
      "English       8.492277e+05\n",
      "French        2.161000e+06\n",
      "German        3.769495e+06\n",
      "Hindi         3.100000e+07\n",
      "Japanese      1.351527e+07\n",
      "Mandarin      2.189310e+07\n",
      "Portuguese    3.094325e+06\n",
      "Russian       1.265505e+07\n",
      "Name: Population, dtype: float64\n"
     ]
    },
    {
     "data": {
      "image/png": "[encoded data removed]",
      "text/plain": [
       "<Figure size 720x360 with 1 Axes>"
      ]
     },
     "metadata": {
      "needs_background": "light"
     },
     "output_type": "display_data"
    },
    {
     "name": "stdout",
     "output_type": "stream",
     "text": [
      "Most common first letters of country names:\n",
      "C    2\n",
      "U    1\n",
      "F    1\n",
      "J    1\n",
      "G    1\n",
      "Name: First_Letter, dtype: int64\n"
     ]
    },
    {
     "data": {
      "image/png": "[encoded data removed]",
      "text/plain": [
       "<Figure size 720x360 with 1 Axes>"
      ]
     },
     "metadata": {
      "needs_background": "light"
     },
     "output_type": "display_data"
    }
   ],
   "source": [
    "\n",
    "# Analysis based on prefilled data with five questions\n",
    "\n",
    "# Question 1: How many countries are listed in total?\n",
    "total_countries = df_combined['Country'].nunique()\n",
    "print(f\"Total number of countries listed: {total_countries}\")\n",
    "\n",
    "# Question 2: Which continent has the most countries with listed capitals?\n",
    "# Simulated continents\n",
    "df_combined['Continent'] = [\n",
    "    \"North America\", \"Europe\", \"Asia\", \"Europe\", \"North America\", \n",
    "    \"South America\", \"Asia\", \"Oceania\", \"Asia\", \"Europe\"\n",
    "]\n",
    "\n",
    "continent_counts = df_combined['Continent'].value_counts()\n",
    "print(\"Number of countries by continent:\")\n",
    "print(continent_counts)\n",
    "\n",
    "# Plot: Number of countries by continent\n",
    "plt.figure(figsize=(10, 5))\n",
    "continent_counts.plot(kind='bar', color='lightblue')\n",
    "plt.title(\"Number of Countries by Continent\")\n",
    "plt.xlabel(\"Continent\")\n",
    "plt.ylabel(\"Number of Countries\")\n",
    "plt.show()\n",
    "\n",
    "# Question 3: What is the average population of capitals grouped by continent?\n",
    "avg_population_by_continent = df_combined.groupby('Continent')['Population'].mean()\n",
    "print(\"Average population by continent:\")\n",
    "print(avg_population_by_continent)\n",
    "\n",
    "# Plot: Average population by continent\n",
    "plt.figure(figsize=(10, 5))\n",
    "avg_population_by_continent.plot(kind='bar', color='lightgreen')\n",
    "plt.title(\"Average Population of Capitals by Continent\")\n",
    "plt.xlabel(\"Continent\")\n",
    "plt.ylabel(\"Average Population\")\n",
    "plt.show()\n",
    "\n",
    "# Question 4: What is the average population of capitals grouped by primary language?\n",
    "df_combined['Primary_Language'] = df_combined['Languages'].str.split(', ').str[0]\n",
    "avg_population_by_language = df_combined.groupby('Primary_Language')['Population'].mean()\n",
    "print(\"Average population by primary language group:\")\n",
    "print(avg_population_by_language)\n",
    "\n",
    "# Plot: Average population by language\n",
    "plt.figure(figsize=(10, 5))\n",
    "avg_population_by_language.plot(kind='bar', color='orange')\n",
    "plt.title(\"Average Population by Primary Language\")\n",
    "plt.xlabel(\"Language\")\n",
    "plt.ylabel(\"Average Population\")\n",
    "plt.show()\n",
    "\n",
    "# Question 5: What is the most common letter that country names begin with?\n",
    "df_combined['First_Letter'] = df_combined['Country'].str[0]\n",
    "letter_counts = df_combined['First_Letter'].value_counts()\n",
    "print(\"Most common first letters of country names:\")\n",
    "print(letter_counts.head())\n",
    "\n",
    "# Plot: Distribution of first letters of country names\n",
    "plt.figure(figsize=(10, 5))\n",
    "letter_counts.head(10).plot(kind='bar', color='salmon')\n",
    "plt.title(\"Most Common First Letters of Country Names\")\n",
    "plt.xlabel(\"First Letter\")\n",
    "plt.ylabel(\"Frequency\")\n",
    "plt.show()\n"
   ]
  },
  {
   "cell_type": "code",
   "execution_count": 6,
   "id": "0782bccb",
   "metadata": {},
   "outputs": [],
   "source": [
    "import requests\n",
    "from bs4 import BeautifulSoup"
   ]
  },
  {
   "cell_type": "code",
   "execution_count": 7,
   "id": "615274bc",
   "metadata": {},
   "outputs": [
    {
     "name": "stdout",
     "output_type": "stream",
     "text": [
      "Scraping successful!\n"
     ]
    }
   ],
   "source": [
    "# Step 1: Scrape the list of national capitals from Wikipedia\n",
    "url = \"https://en.wikipedia.org/wiki/List_of_national_capitals\"\n",
    "response = requests.get(url)\n",
    "\n",
    "if response.status_code == 200:\n",
    "    soup = BeautifulSoup(response.content, 'html.parser')\n",
    "    \n",
    "    # Find the table containing the capitals\n",
    "    table = soup.find('table', {'class': 'wikitable'})\n",
    "    \n",
    "    # Extract data from the table\n",
    "    countries = []\n",
    "    capitals = []\n",
    "    \n",
    "    for row in table.find_all('tr')[1:]:  # Skip header row\n",
    "        cells = row.find_all('td')\n",
    "        if len(cells) >= 2:  # Ensure there are enough cells\n",
    "            country = cells[0].get_text(strip=True)\n",
    "            capital = cells[1].get_text(strip=True)\n",
    "            countries.append(country)\n",
    "            capitals.append(capital)\n",
    "    \n",
    "    # Create a DataFrame\n",
    "    df_scraped = pd.DataFrame({'Country': countries, 'Capital': capitals})\n",
    "    print(\"Scraping successful!\")\n",
    "else:\n",
    "    print(f\"Failed to fetch the webpage. Status code: {response.status_code}\")"
   ]
  },
  {
   "cell_type": "code",
   "execution_count": 8,
   "id": "030d32d0",
   "metadata": {},
   "outputs": [
    {
     "name": "stdout",
     "output_type": "stream",
     "text": [
      "First few rows of the scraped data:\n",
      "                                             Country  \\\n",
      "0  Abidjan(former capital; still hosts some gover...   \n",
      "1                                          Abu Dhabi   \n",
      "2                                              Abuja   \n",
      "3                                              Accra   \n",
      "4                                          Adamstown   \n",
      "\n",
      "                      Capital  \n",
      "0  Ivory Coast(Côte d'Ivoire)  \n",
      "1        United Arab Emirates  \n",
      "2                     Nigeria  \n",
      "3                       Ghana  \n",
      "4            Pitcairn Islands  \n",
      "\n",
      "Checking for missing values:\n",
      "Country    0\n",
      "Capital    0\n",
      "dtype: int64\n",
      "\n",
      "Checking for duplicate rows:\n",
      "0\n",
      "\n",
      "Data cleaned and duplicates removed.\n"
     ]
    }
   ],
   "source": [
    "# Step 2: Display the first few rows of the scraped data\n",
    "print(\"First few rows of the scraped data:\")\n",
    "print(df_scraped.head())\n",
    "\n",
    "# Check for missing or duplicate values\n",
    "print(\"\\nChecking for missing values:\")\n",
    "print(df_scraped.isnull().sum())\n",
    "\n",
    "print(\"\\nChecking for duplicate rows:\")\n",
    "print(df_scraped.duplicated().sum())\n",
    "\n",
    "# Remove duplicates if found\n",
    "df_scraped = df_scraped.drop_duplicates()\n",
    "print(\"\\nData cleaned and duplicates removed.\")"
   ]
  },
  {
   "cell_type": "code",
   "execution_count": 9,
   "id": "0f196d12",
   "metadata": {},
   "outputs": [
    {
     "name": "stdout",
     "output_type": "stream",
     "text": [
      "Cleaned data:\n",
      "     Country                     Capital\n",
      "0    Abidjan  Ivory Coast(Côte d'Ivoire)\n",
      "1  Abu Dhabi        United Arab Emirates\n",
      "2      Abuja                     Nigeria\n",
      "3      Accra                       Ghana\n",
      "4  Adamstown            Pitcairn Islands\n",
      "\n",
      "Cleaned data saved to 'cleaned_countries_capitals.csv'.\n"
     ]
    }
   ],
   "source": [
    "import re\n",
    "\n",
    "# Step 3: Clean the 'Country' column to remove text in parentheses\n",
    "df_scraped['Country'] = df_scraped['Country'].apply(lambda x: re.sub(r\"\\(.*?\\)\", \"\", x).strip())\n",
    "\n",
    "# Display cleaned data\n",
    "print(\"Cleaned data:\")\n",
    "print(df_scraped.head())\n",
    "\n",
    "# Save cleaned data to a CSV file\n",
    "df_scraped.to_csv(\"cleaned_countries_capitals.csv\", index=False)\n",
    "print(\"\\nCleaned data saved to 'cleaned_countries_capitals.csv'.\")"
   ]
  },
  {
   "cell_type": "code",
   "execution_count": 10,
   "id": "e53e378a",
   "metadata": {},
   "outputs": [
    {
     "name": "stdout",
     "output_type": "stream",
     "text": [
      "Skipping Ivory Coast(Côte d'Ivoire): Unable to access page (Status Code: 404)\n",
      "Scraped: Ivory Coast(Côte d'Ivoire) (Population: N/A, Languages: N/A)\n",
      "Scraped: United Arab Emirates (Population: N/A, Languages: N/A)\n",
      "Scraped: Nigeria (Population: N/A, Languages: N/A)\n",
      "Scraped: Ghana (Population: N/A, Languages: N/A)\n",
      "Scraped: Pitcairn Islands (Population: N/A, Languages: PitkernEnglish)\n",
      "Scraped: Ethiopia (Population: N/A, Languages: N/A)\n",
      "Scraped: Yemen (Population: N/A, Languages: N/A)\n",
      "Scraped: Akrotiri and Dhekelia (Population: N/A, Languages: EnglishGreek)\n",
      "Scraped: Algeria (Population: N/A, Languages: N/A)\n",
      "Scraped: Niue (Population: N/A, Languages: N/A)\n",
      "Scraped: Jordan (Population: N/A, Languages: N/A)\n",
      "Scraped: Netherlands (Population: N/A, Languages: Dutch)\n",
      "Scraped: Andorra (Population: N/A, Languages: N/A)\n",
      "Scraped: Turkey (Population: N/A, Languages: N/A)\n",
      "Scraped: Madagascar (Population: N/A, Languages: N/A)\n",
      "Scraped: Samoa (Population: N/A, Languages: N/A)\n",
      "Scraped: Turkmenistan (Population: N/A, Languages: N/A)\n",
      "Scraped: Eritrea (Population: N/A, Languages: N/A)\n",
      "Scraped: Kazakhstan (Population: N/A, Languages: N/A)\n",
      "Scraped: Paraguay (Population: N/A, Languages: SpanishGuarani)\n",
      "Scraped: Greece (Population: N/A, Languages: N/A)\n",
      "Scraped: Cook Islands (Population: N/A, Languages: N/A)\n",
      "Scraped: Iraq (Population: N/A, Languages: N/A)\n",
      "Scraped: Azerbaijan (Population: N/A, Languages: N/A)\n",
      "Scraped: Mali (Population: N/A, Languages: N/A)\n",
      "Scraped: Brunei (Population: N/A, Languages: N/A)\n",
      "Scraped: Thailand (Population: N/A, Languages: N/A)\n",
      "Scraped: Central African Republic (Population: N/A, Languages: N/A)\n",
      "Scraped: Gambia (Population: N/A, Languages: N/A)\n",
      "Scraped: Saint Kitts and Nevis (Population: N/A, Languages: N/A)\n",
      "Scraped: China (Population: N/A, Languages: N/A)\n",
      "Scraped: Lebanon (Population: N/A, Languages: N/A)\n",
      "Scraped: Serbia (Population: N/A, Languages: N/A)\n",
      "Scraped: Belize (Population: N/A, Languages: N/A)\n",
      "Scraped: Germany (Population: N/A, Languages: N/A)\n",
      "Scraped: Switzerland (Population: N/A, Languages: N/A)\n",
      "Scraped: Kyrgyzstan (Population: N/A, Languages: N/A)\n",
      "Scraped: Guinea-Bissau (Population: N/A, Languages: N/A)\n",
      "Scraped: South Africa (Population: N/A, Languages: N/A)\n",
      "Scraped:  (Population: N/A, Languages: N/A)\n",
      "Scraped:  (Population: N/A, Languages: N/A)\n",
      "Scraped: Colombia (Population: N/A, Languages: N/A)\n",
      "Scraped: Montserrat (Population: N/A, Languages: English)\n",
      "Scraped: Brazil (Population: N/A, Languages: N/A)\n",
      "Scraped: Slovakia (Population: N/A, Languages: N/A)\n",
      "Scraped: Congo (Population: N/A, Languages: N/A)\n",
      "Scraped: Barbados (Population: N/A, Languages: N/A)\n",
      "Scraped: Belgium (Population: N/A, Languages: N/A)\n",
      "Scraped: Romania (Population: N/A, Languages: N/A)\n",
      "Scraped: Hungary (Population: N/A, Languages: N/A)\n",
      "Scraped: Argentina (Population: N/A, Languages: N/A)\n",
      "Scraped: Egypt (Population: N/A, Languages: N/A)\n",
      "Scraped: Australia (Population: N/A, Languages: N/A)\n",
      "Scraped: Venezuela (Population: N/A, Languages: N/A)\n",
      "Scraped: Saint Lucia (Population: N/A, Languages: N/A)\n",
      "Scraped: United States Virgin Islands (Population: N/A, Languages: English)\n",
      "Scraped: Moldova (Population: N/A, Languages: N/A)\n",
      "Scraped: Turks and Caicos Islands (Population: N/A, Languages: English)\n",
      "Scraped: Sri Lanka (Population: N/A, Languages: N/A)\n",
      "Skipping Also known as Kotte, the city is asuburbof Colombo.: Unable to access page (Status Code: 404)\n",
      "Scraped: Also known as Kotte, the city is asuburbof Colombo. (Population: N/A, Languages: N/A)\n",
      "Scraped: Guinea (Population: N/A, Languages: N/A)\n",
      "Scraped: Denmark (Population: N/A, Languages: Danish)\n",
      "Scraped: Benin (Population: N/A, Languages: N/A)\n",
      "Scraped:  (Population: N/A, Languages: N/A)\n",
      "Scraped: Senegal (Population: N/A, Languages: N/A)\n",
      "Scraped: Syria (Population: N/A, Languages: N/A)\n",
      "Scraped: Bangladesh (Population: N/A, Languages: N/A)\n",
      "Scraped: East Timor (Population: N/A, Languages: N/A)\n",
      "Scraped: Djibouti (Population: N/A, Languages: N/A)\n",
      "Scraped: Tanzania (Population: N/A, Languages: N/A)\n",
      "Scraped: Qatar (Population: N/A, Languages: N/A)\n",
      "Scraped: Isle of Man (Population: N/A, Languages: EnglishManx)\n",
      "Scraped: Ireland (Population: 19th, Languages: EnglishIrishISLUlster ScotsNISLShelta)\n",
      "Scraped: Tajikistan (Population: N/A, Languages: N/A)\n",
      "Scraped: Tristan da Cunha (Population: N/A, Languages: English)\n",
      "Scraped: Christmas Island (Population: N/A, Languages: None[a])\n",
      "Scraped: Sierra Leone (Population: N/A, Languages: N/A)\n",
      "Scraped: French Southern and Antarctic Lands (Population: N/A, Languages: French)\n",
      "Scraped: Tuvalu (Population: N/A, Languages: N/A)\n",
      "Scraped: Botswana (Population: N/A, Languages: N/A)\n",
      "Scraped: Cayman Islands (Population: N/A, Languages: English)\n",
      "Scraped: Ascension Island (Population: N/A, Languages: English)\n",
      "Scraped: Guyana (Population: N/A, Languages: N/A)\n",
      "Scraped: Gibraltar (Population: N/A, Languages: English)\n",
      "Scraped: Burundi (Population: N/A, Languages: KirundiFrenchEnglishSwahili)\n",
      "Scraped: Guatemala (Population: N/A, Languages: N/A)\n",
      "Scraped: Saint Barthélemy (Population: N/A, Languages: French)\n",
      "Scraped: Guam (Population: N/A, Languages: EnglishChamorro)\n",
      "Scraped: Bermuda (Population: N/A, Languages: English)\n",
      "Scraped: Vietnam (Population: N/A, Languages: N/A)\n",
      "Scraped: Zimbabwe (Population: N/A, Languages: N/A)\n",
      "Scraped: Somaliland (Population: N/A, Languages: N/A)\n",
      "Scraped: Cuba (Population: N/A, Languages: N/A)\n",
      "Scraped: Finland (Population: N/A, Languages: N/A)\n",
      "Scraped: Solomon Islands (Population: N/A, Languages: N/A)\n",
      "Scraped: Pakistan (Population: N/A, Languages: N/A)\n",
      "Scraped: Indonesia (Population: N/A, Languages: N/A)\n",
      "Scraped: Saint Helena (Population: N/A, Languages: English)\n",
      "Scraped: Israel (Population: N/A, Languages: N/A)\n",
      "Scraped:  (Population: N/A, Languages: N/A)\n",
      "Scraped: Asia (Population: 100/km2 (260/sq mi), Languages: List of languages)\n",
      "Scraped: South Sudan (Population: N/A, Languages: N/A)\n",
      "Scraped: Afghanistan (Population: N/A, Languages: N/A)\n",
      "Scraped: Uganda (Population: N/A, Languages: Lipabuliika ya Uganda[2])\n",
      "Scraped: Nepal (Population: N/A, Languages: N/A)\n",
      "Scraped: Sudan (Population: N/A, Languages: N/A)\n",
      "Scraped: Rwanda (Population: N/A, Languages: N/A)\n",
      "Scraped: South Georgia and the South Sandwich Islands (Population: N/A, Languages: English)\n",
      "Scraped: Jamaica (Population: N/A, Languages: N/A)\n",
      "Scraped: Norfolk Island (Population: N/A, Languages: EnglishNorfuk[3])\n",
      "Scraped: Saint Vincent and the Grenadines (Population: N/A, Languages: N/A)\n",
      "Scraped: Democratic Republic of the Congo (Population: N/A, Languages: N/A)\n",
      "Scraped: Malaysia (Population: N/A, Languages: N/A)\n",
      "Scraped:  (Population: N/A, Languages: N/A)\n",
      "Scraped: Kuwait (Population: N/A, Languages: N/A)\n",
      "Scraped: Ukraine (Population: N/A, Languages: N/A)\n",
      "Scraped: Bolivia (Population: N/A, Languages: N/A)\n",
      "Scraped:  (Population: N/A, Languages: N/A)\n",
      "Scraped: Western Sahara (Population: N/A, Languages: N/A)\n",
      "Scraped: Gabon (Population: N/A, Languages: N/A)\n",
      "Scraped: Malawi (Population: N/A, Languages: N/A)\n",
      "Scraped: Peru (Population: N/A, Languages: N/A)\n",
      "Scraped: Portugal (Population: N/A, Languages: N/A)\n",
      "Scraped: Slovenia (Population: N/A, Languages: N/A)\n",
      "Scraped: Eswatini (Population: N/A, Languages: N/A)\n",
      "Scraped:  (Population: N/A, Languages: N/A)\n",
      "Scraped: Togo (Population: N/A, Languages: N/A)\n",
      "Scraped: United Kingdom (Population: N/A, Languages: N/A)\n",
      "Scraped: British Indian Ocean Territory (Population: N/A, Languages: English)\n",
      "Scraped: Angola (Population: N/A, Languages: N/A)\n",
      "Scraped: Zambia (Population: N/A, Languages: N/A)\n",
      "Scraped: Luxembourg (Population: N/A, Languages: N/A)\n",
      "Scraped: Spain (Population: N/A, Languages: N/A)\n",
      "Scraped: Marshall Islands (Population: N/A, Languages: N/A)\n",
      "Scraped: Equatorial Guinea (Population: N/A, Languages: N/A)\n",
      "Scraped: Maldives (Population: N/A, Languages: N/A)\n",
      "Scraped: Nicaragua (Population: N/A, Languages: N/A)\n",
      "Scraped: Bahrain (Population: N/A, Languages: N/A)\n",
      "Scraped: Philippines (Population: N/A, Languages: N/A)\n",
      "Scraped: Mozambique (Population: N/A, Languages: N/A)\n",
      "Scraped: Åland Islands (Population: N/A, Languages: Swedish)\n",
      "Scraped: Saint Martin (Population: N/A, Languages: N/A)\n",
      "Scraped: Lesotho (Population: N/A, Languages: N/A)\n",
      "Scraped: Wallis and Futuna (Population: N/A, Languages: French)\n",
      "Scraped: Mexico (Population: N/A, Languages: N/A)\n"
     ]
    },
    {
     "name": "stdout",
     "output_type": "stream",
     "text": [
      "Scraped: Belarus (Population: N/A, Languages: N/A)\n",
      "Scraped: Somalia (Population: N/A, Languages: N/A)\n",
      "Scraped: Monaco (Population: N/A, Languages: N/A)\n",
      "Scraped: Liberia (Population: N/A, Languages: N/A)\n",
      "Scraped: Uruguay (Population: N/A, Languages: N/A)\n",
      "Scraped: Comoros (Population: N/A, Languages: N/A)\n",
      "Scraped: Russia (Population: N/A, Languages: N/A)\n",
      "Scraped: Oman (Population: N/A, Languages: N/A)\n",
      "Scraped: Kenya (Population: N/A, Languages: N/A)\n",
      "Scraped: Bahamas, The (Population: N/A, Languages: N/A)\n",
      "Scraped: Myanmar (Population: N/A, Languages: N/A)\n",
      "Scraped: Chad (Population: N/A, Languages: N/A)\n",
      "Scraped: India (Population: N/A, Languages: N/A)\n",
      "Scraped: Palau (Population: N/A, Languages: N/A)\n",
      "Scraped: Niger (Population: N/A, Languages: N/A)\n",
      "Scraped: Cyprus (Population: N/A, Languages: N/A)\n",
      "Scraped: Mauritania (Population: N/A, Languages: N/A)\n",
      "Scraped: New Caledonia (Population: N/A, Languages: French)\n",
      "Scraped: Tonga (Population: N/A, Languages: N/A)\n",
      "Scraped: Greenland (Population: N/A, Languages: Greenlandic[b])\n",
      "Scraped: Aruba (Population: N/A, Languages: PapiamentoDutch[1])\n",
      "Scraped: Norway (Population: N/A, Languages: N/A)\n",
      "Scraped: Canada (Population: N/A, Languages: N/A)\n",
      "Scraped: Burkina Faso (Population: N/A, Languages: N/A)\n",
      "Scraped: American Samoa (Population: N/A, Languages: EnglishSamoan)\n",
      "Scraped: Micronesia (Population: N/A, Languages: N/A)\n",
      "Scraped: Panama (Population: N/A, Languages: N/A)\n",
      "Scraped: French Polynesia (Population: N/A, Languages: French)\n",
      "Scraped: Suriname (Population: N/A, Languages: N/A)\n",
      "Scraped: France (Population: N/A, Languages: N/A)\n",
      "Scraped: Sint Maarten (Population: N/A, Languages: EnglishDutch)\n",
      "Scraped: Cambodia (Population: N/A, Languages: N/A)\n",
      "Scraped: Montenegro (Population: N/A, Languages: AlbanianBosnianCroatianSerbian)\n",
      "Scraped: Mauritius (Population: N/A, Languages: N/A)\n",
      "Scraped: Papua New Guinea (Population: N/A, Languages: EnglishHiri MotuPNG Sign LanguageTok Pisin)\n",
      "Scraped: Trinidad and Tobago (Population: N/A, Languages: N/A)\n",
      "Scraped: Vanuatu (Population: N/A, Languages: N/A)\n",
      "Scraped: Haiti (Population: N/A, Languages: N/A)\n",
      "Scraped: Czech Republic (Population: N/A, Languages: N/A)\n",
      "Scraped: Cape Verde (Population: N/A, Languages: N/A)\n",
      "Scraped: Kosovo (Population: N/A, Languages: N/A)\n",
      "Scraped: North Korea (Population: N/A, Languages: N/A)\n",
      "Scraped: Ecuador (Population: N/A, Languages: N/A)\n",
      "Scraped: Morocco (Population: N/A, Languages: N/A)\n",
      "Scraped: Iceland (Population: N/A, Languages: N/A)\n",
      "Scraped: Latvia (Population: N/A, Languages: N/A)\n",
      "Scraped: Saudi Arabia (Population: N/A, Languages: N/A)\n",
      "Scraped: British Virgin Islands (Population: N/A, Languages: English)\n",
      "Scraped: Italy (Population: N/A, Languages: N/A)\n",
      "Scraped: Dominica (Population: N/A, Languages: N/A)\n",
      "Scraped: British Antarctic Territory (Population: N/A, Languages: English)\n",
      "Scraped: Northern Mariana Islands (Population: N/A, Languages: EnglishChamorroCarolinian)\n",
      "Scraped: Costa Rica (Population: N/A, Languages: N/A)\n",
      "Scraped: Puerto Rico (Population: N/A, Languages: SpanishEnglish[3])\n",
      "Scraped: San Marino (Population: N/A, Languages: N/A)\n",
      "Scraped: El Salvador (Population: N/A, Languages: N/A)\n",
      "Scraped: Chile (Population: N/A, Languages: N/A)\n",
      "Scraped: Dominican Republic (Population: N/A, Languages: N/A)\n",
      "Scraped: São Tomé and Príncipe (Population: N/A, Languages: N/A)\n",
      "Scraped: Bosnia and Herzegovina (Population: N/A, Languages: N/A)\n",
      "Scraped: South Korea (Population: N/A, Languages: N/A)\n",
      "Scraped: Singapore (Population: N/A, Languages: EnglishMalayMandarinTamil)\n",
      "Scraped: North Macedonia (Population: N/A, Languages: N/A)\n",
      "Scraped: Bulgaria (Population: N/A, Languages: N/A)\n",
      "Scraped: Kiribati (Population: N/A, Languages: N/A)\n",
      "Scraped: Grenada (Population: N/A, Languages: N/A)\n",
      "Scraped: Jersey (Population: N/A, Languages: FrenchEnglishJèrriais[c])\n",
      "Scraped: Antigua and Barbuda (Population: N/A, Languages: N/A)\n",
      "Scraped: Guernsey (Population: N/A, Languages: EnglishFrench)\n",
      "Scraped: Saint Pierre and Miquelon (Population: N/A, Languages: French)\n",
      "Scraped: Falkland Islands (Population: N/A, Languages: English)\n",
      "Scraped: Sweden (Population: N/A, Languages: N/A)\n",
      "Scraped: Abkhazia (Population: N/A, Languages: N/A)\n",
      "Scraped: Fiji (Population: N/A, Languages: N/A)\n",
      "Scraped: Taiwan (Population: N/A, Languages: N/A)\n",
      "Scraped: Estonia (Population: N/A, Languages: N/A)\n",
      "Scraped: Uzbekistan (Population: N/A, Languages: N/A)\n",
      "Scraped: Georgia (Population: N/A, Languages: N/A)\n",
      "Scraped: Honduras (Population: N/A, Languages: N/A)\n",
      "Scraped: Iran (Population: N/A, Languages: N/A)\n",
      "Scraped: Bhutan (Population: N/A, Languages: N/A)\n",
      "Scraped: Albania (Population: N/A, Languages: N/A)\n",
      "Scraped: Transnistria (Population: N/A, Languages: N/A)\n",
      "Scraped: Japan (Population: N/A, Languages: N/A)\n",
      "Scraped: Faroe Islands (Population: N/A, Languages: FaroeseDanish[a])\n",
      "Scraped: Libya (Population: N/A, Languages: N/A)\n",
      "Scraped: South Ossetia (Population: N/A, Languages: N/A)\n",
      "Scraped: Tunisia (Population: N/A, Languages: N/A)\n",
      "Scraped: Mongolia (Population: N/A, Languages: N/A)\n",
      "Scraped: Liechtenstein (Population: N/A, Languages: N/A)\n",
      "Scraped: Malta (Population: N/A, Languages: N/A)\n",
      "Scraped: Anguilla (Population: N/A, Languages: English)\n",
      "Scraped: Vatican City (Population: N/A, Languages: N/A)\n",
      "Scraped: Seychelles (Population: N/A, Languages: N/A)\n",
      "Scraped: Austria (Population: N/A, Languages: N/A)\n",
      "Scraped: Laos (Population: N/A, Languages: N/A)\n",
      "Scraped: Lithuania (Population: N/A, Languages: N/A)\n",
      "Scraped: Poland (Population: N/A, Languages: N/A)\n",
      "Scraped: United States (Population: N/A, Languages: N/A)\n",
      "Scraped: New Zealand (Population: N/A, Languages: N/A)\n",
      "Scraped: Cocos (Keeling) Islands (Population: N/A, Languages: None)\n",
      "Scraped: Curaçao (Population: N/A, Languages: Papiamentu Dutch English)\n",
      "Scraped: Namibia (Population: N/A, Languages: N/A)\n",
      "Scraped: Cameroon (Population: N/A, Languages: N/A)\n",
      "Scraped: Nauru (Population: N/A, Languages: N/A)\n",
      "Scraped: Armenia (Population: N/A, Languages: N/A)\n",
      "Scraped: Croatia (Population: N/A, Languages: N/A)\n",
      "Final scraped data:\n",
      "     Country                     Capital Population       Languages\n",
      "0    Abidjan  Ivory Coast(Côte d'Ivoire)        N/A             N/A\n",
      "1  Abu Dhabi        United Arab Emirates        N/A             N/A\n",
      "2      Abuja                     Nigeria        N/A             N/A\n",
      "3      Accra                       Ghana        N/A             N/A\n",
      "4  Adamstown            Pitcairn Islands        N/A  PitkernEnglish\n",
      "Data saved to 'additional_details.csv'.\n"
     ]
    }
   ],
   "source": [
    "# Step 4: Ensure outputs for additional details\n",
    "additional_details = []\n",
    "\n",
    "for index, row in df_scraped.iterrows():\n",
    "    capital = row['Capital']\n",
    "    country = row['Country']\n",
    "    \n",
    "    # Default values\n",
    "    population = \"N/A\"\n",
    "    languages = \"N/A\"\n",
    "    search_url = f\"https://en.wikipedia.org/wiki/{capital.replace(' ', '_')}\"\n",
    "    \n",
    "    try:\n",
    "        response = requests.get(search_url, timeout=10)\n",
    "        if response.status_code == 200:\n",
    "            soup = BeautifulSoup(response.content, 'html.parser')\n",
    "            \n",
    "            # Locate the infobox\n",
    "            infobox = soup.find('table', {'class': 'infobox'})\n",
    "            if infobox:\n",
    "                for tr in infobox.find_all('tr'):\n",
    "                    header = tr.find('th')\n",
    "                    data = tr.find('td')\n",
    "                    if header and data:\n",
    "                        if \"Population\" in header.text:\n",
    "                            population = data.text.strip().replace(\"\\n\", \" \")\n",
    "                        if \"Official languages\" in header.text or \"Languages\" in header.text:\n",
    "                            languages = data.text.strip().replace(\"\\n\", \" \")\n",
    "        else:\n",
    "            print(f\"Skipping {capital}: Unable to access page (Status Code: {response.status_code})\")\n",
    "    except Exception as e:\n",
    "        print(f\"Error scraping {capital}: {e}\")\n",
    "    \n",
    "    # Append details\n",
    "    additional_details.append({\n",
    "        \"Country\": country,\n",
    "        \"Capital\": capital,\n",
    "        \"Population\": population,\n",
    "        \"Languages\": languages\n",
    "    })\n",
    "    print(f\"Scraped: {capital} (Population: {population}, Languages: {languages})\")\n",
    "\n",
    "# Convert additional details into a DataFrame\n",
    "df_additional_details = pd.DataFrame(additional_details)\n",
    "\n",
    "# Display and save the DataFrame\n",
    "print(\"Final scraped data:\")\n",
    "print(df_additional_details.head())\n",
    "df_additional_details.to_csv(\"additional_details.csv\", index=False)\n",
    "print(\"Data saved to 'additional_details.csv'.\")"
   ]
  },
  {
   "cell_type": "code",
   "execution_count": 11,
   "id": "e67da5b7",
   "metadata": {},
   "outputs": [
    {
     "data": {
      "image/png": "[encoded data removed]",
      "text/plain": [
       "<Figure size 720x432 with 1 Axes>"
      ]
     },
     "metadata": {
      "needs_background": "light"
     },
     "output_type": "display_data"
    }
   ],
   "source": [
    "import seaborn as sns\n",
    "import matplotlib.pyplot as plt\n",
    "\n",
    "# Calculate the average population by continent\n",
    "avg_population_by_continent = df_combined.groupby('Continent')['Population'].mean()\n",
    "\n",
    "# Reset index for easier plotting\n",
    "avg_population_by_continent = avg_population_by_continent.reset_index()\n",
    "\n",
    "# Seaborn Bar Plot\n",
    "plt.figure(figsize=(10, 6))\n",
    "sns.barplot(\n",
    "    x='Continent', \n",
    "    y='Population', \n",
    "    data=avg_population_by_continent, \n",
    "    palette='viridis'\n",
    ")\n",
    "\n",
    "# Customize the plot\n",
    "plt.title('Average Population of Capitals by Continent', fontsize=16)\n",
    "plt.xlabel('Continent', fontsize=12)\n",
    "plt.ylabel('Average Population', fontsize=12)\n",
    "plt.xticks(rotation=45)\n",
    "plt.tight_layout()\n",
    "\n",
    "# Show the plot\n",
    "plt.show()"
   ]
  },
  {
   "cell_type": "code",
   "execution_count": null,
   "id": "c5da6fc9",
   "metadata": {},
   "outputs": [],
   "source": []
  }
 ],
 "metadata": {
  "kernelspec": {
   "display_name": "Python 3 (ipykernel)",
   "language": "python",
   "name": "python3"
  },
  "language_info": {
   "codemirror_mode": {
    "name": "ipython",
    "version": 3
   },
   "file_extension": ".py",
   "mimetype": "text/x-python",
   "name": "python",
   "nbconvert_exporter": "python",
   "pygments_lexer": "ipython3",
   "version": "3.9.7"
  }
 },
 "nbformat": 4,
 "nbformat_minor": 5
}
